{
 "cells": [
  {
   "cell_type": "code",
   "execution_count": 1,
   "metadata": {},
   "outputs": [
    {
     "name": "stderr",
     "output_type": "stream",
     "text": [
      "2023-07-17 00:39:32.211633: I tensorflow/core/platform/cpu_feature_guard.cc:193] This TensorFlow binary is optimized with oneAPI Deep Neural Network Library (oneDNN) to use the following CPU instructions in performance-critical operations:  SSE4.1 SSE4.2\n",
      "To enable them in other operations, rebuild TensorFlow with the appropriate compiler flags.\n"
     ]
    }
   ],
   "source": [
    "import tensorflow as tf\n",
    "from keras.layers import Conv1D, MaxPooling1D, Dropout, Dense, Concatenate, GlobalAveragePooling1D, BatchNormalization, ReLU\n",
    "import joblib\n",
    "import seaborn as sns\n",
    "from matplotlib import pyplot as plt\n",
    "import pandas as pd\n",
    "import numpy as np\n",
    "\n",
    "sns.set_style('darkgrid')"
   ]
  },
  {
   "cell_type": "code",
   "execution_count": 16,
   "metadata": {},
   "outputs": [],
   "source": [
    "X_train_scaled = joblib.load('./preprocessed/X_train_scaled.joblib')\n",
    "Y_train_scaled = joblib.load('./preprocessed/Y_train_scaled.joblib')\n",
    "Z_train = joblib.load('./preprocessed/Z_train.joblib')\n",
    "X_val_scaled = joblib.load('./preprocessed/X_val_scaled.joblib')\n",
    "Y_val_scaled = joblib.load('./preprocessed/Y_val_scaled.joblib')\n",
    "Z_val = joblib.load('./preprocessed/Z_val.joblib')\n",
    "X_test_scaled = joblib.load('./preprocessed/X_test_scaled.joblib')\n",
    "Y_test_scaled = joblib.load('./preprocessed/Y_test_scaled.joblib')\n",
    "Z_test = joblib.load('./preprocessed/Z_test.joblib')"
   ]
  },
  {
   "cell_type": "code",
   "execution_count": 6,
   "metadata": {},
   "outputs": [
    {
     "data": {
      "text/plain": [
       "(17441, 7)"
      ]
     },
     "execution_count": 6,
     "metadata": {},
     "output_type": "execute_result"
    }
   ],
   "source": [
    "X_train_scaled = joblib.load('./preprocessed/X_train_scaled.joblib')\n",
    "\n",
    "X_train_scaled.shape\n"
   ]
  },
  {
   "cell_type": "code",
   "execution_count": 5,
   "metadata": {},
   "outputs": [],
   "source": [
    "# X model\n",
    "\n",
    "X_input = tf.keras.layers.Input(X_train_scaled.shape[1:])\n",
    "\n",
    "X = Dense(128, activation='relu')(X_input)\n",
    "X = Dropout(0.3)(X)\n",
    "X = Dense(128, activation='relu')(X)\n",
    "X = Dropout(0.3)(X)\n",
    "X = Dense(64, activation='relu')(X)\n",
    "X = Dropout(0.3)(X)\n",
    "X = Dense(32, activation='relu')(X)\n",
    "output = Dense(Z_train.shape[-1], activation='sigmoid')(X)\n",
    "\n",
    "modelX = tf.keras.Model(inputs=X_input, outputs=output)\n",
    "\n"
   ]
  },
  {
   "cell_type": "code",
   "execution_count": 6,
   "metadata": {},
   "outputs": [
    {
     "name": "stdout",
     "output_type": "stream",
     "text": [
      "Epoch 1/40\n",
      "546/546 [==============================] - 2s 2ms/step - loss: 0.5107 - binary_accuracy: 0.7666 - precision: 0.6022 - recall: 0.2481 - val_loss: 0.4988 - val_binary_accuracy: 0.7677 - val_precision: 0.5777 - val_recall: 0.3396\n",
      "Epoch 2/40\n",
      "546/546 [==============================] - 1s 1ms/step - loss: 0.4850 - binary_accuracy: 0.7807 - precision: 0.6362 - recall: 0.3256 - val_loss: 0.4966 - val_binary_accuracy: 0.7702 - val_precision: 0.5876 - val_recall: 0.3386\n",
      "Epoch 3/40\n",
      "546/546 [==============================] - 1s 1ms/step - loss: 0.4800 - binary_accuracy: 0.7853 - precision: 0.6487 - recall: 0.3438 - val_loss: 0.4904 - val_binary_accuracy: 0.7745 - val_precision: 0.6126 - val_recall: 0.3204\n",
      "Epoch 4/40\n",
      "546/546 [==============================] - 1s 1ms/step - loss: 0.4762 - binary_accuracy: 0.7871 - precision: 0.6568 - recall: 0.3448 - val_loss: 0.4885 - val_binary_accuracy: 0.7771 - val_precision: 0.6154 - val_recall: 0.3414\n",
      "Epoch 5/40\n",
      "546/546 [==============================] - 1s 1ms/step - loss: 0.4731 - binary_accuracy: 0.7890 - precision: 0.6638 - recall: 0.3487 - val_loss: 0.4850 - val_binary_accuracy: 0.7789 - val_precision: 0.6194 - val_recall: 0.3507\n",
      "Epoch 6/40\n",
      "546/546 [==============================] - 1s 1ms/step - loss: 0.4712 - binary_accuracy: 0.7905 - precision: 0.6645 - recall: 0.3589 - val_loss: 0.4815 - val_binary_accuracy: 0.7847 - val_precision: 0.6479 - val_recall: 0.3453\n",
      "Epoch 7/40\n",
      "546/546 [==============================] - 1s 1ms/step - loss: 0.4697 - binary_accuracy: 0.7914 - precision: 0.6677 - recall: 0.3612 - val_loss: 0.4770 - val_binary_accuracy: 0.7868 - val_precision: 0.6594 - val_recall: 0.3432\n",
      "Epoch 8/40\n",
      "546/546 [==============================] - 1s 2ms/step - loss: 0.4695 - binary_accuracy: 0.7922 - precision: 0.6731 - recall: 0.3585 - val_loss: 0.4757 - val_binary_accuracy: 0.7864 - val_precision: 0.6523 - val_recall: 0.3521\n",
      "Epoch 9/40\n",
      "546/546 [==============================] - 1s 1ms/step - loss: 0.4668 - binary_accuracy: 0.7933 - precision: 0.6750 - recall: 0.3641 - val_loss: 0.4754 - val_binary_accuracy: 0.7875 - val_precision: 0.6561 - val_recall: 0.3546\n",
      "Epoch 10/40\n",
      "546/546 [==============================] - 1s 1ms/step - loss: 0.4656 - binary_accuracy: 0.7942 - precision: 0.6811 - recall: 0.3615 - val_loss: 0.4743 - val_binary_accuracy: 0.7884 - val_precision: 0.6549 - val_recall: 0.3643\n",
      "Epoch 11/40\n",
      "546/546 [==============================] - 1s 1ms/step - loss: 0.4649 - binary_accuracy: 0.7944 - precision: 0.6797 - recall: 0.3651 - val_loss: 0.4745 - val_binary_accuracy: 0.7844 - val_precision: 0.6314 - val_recall: 0.3764\n",
      "Epoch 12/40\n",
      "546/546 [==============================] - 1s 1ms/step - loss: 0.4646 - binary_accuracy: 0.7949 - precision: 0.6835 - recall: 0.3631 - val_loss: 0.4762 - val_binary_accuracy: 0.7883 - val_precision: 0.6514 - val_recall: 0.3700\n",
      "Epoch 13/40\n",
      "546/546 [==============================] - 1s 1ms/step - loss: 0.4630 - binary_accuracy: 0.7950 - precision: 0.6834 - recall: 0.3643 - val_loss: 0.4770 - val_binary_accuracy: 0.7881 - val_precision: 0.6528 - val_recall: 0.3650\n",
      "Epoch 14/40\n",
      "546/546 [==============================] - 1s 1ms/step - loss: 0.4628 - binary_accuracy: 0.7949 - precision: 0.6834 - recall: 0.3634 - val_loss: 0.4712 - val_binary_accuracy: 0.7887 - val_precision: 0.6590 - val_recall: 0.3593\n",
      "Epoch 15/40\n",
      "546/546 [==============================] - 1s 1ms/step - loss: 0.4628 - binary_accuracy: 0.7955 - precision: 0.6862 - recall: 0.3642 - val_loss: 0.4725 - val_binary_accuracy: 0.7896 - val_precision: 0.6592 - val_recall: 0.3664\n",
      "Epoch 16/40\n",
      "546/546 [==============================] - 1s 1ms/step - loss: 0.4616 - binary_accuracy: 0.7961 - precision: 0.6865 - recall: 0.3677 - val_loss: 0.4735 - val_binary_accuracy: 0.7875 - val_precision: 0.6502 - val_recall: 0.3653\n",
      "Epoch 17/40\n",
      "546/546 [==============================] - 1s 1ms/step - loss: 0.4612 - binary_accuracy: 0.7957 - precision: 0.6904 - recall: 0.3593 - val_loss: 0.4708 - val_binary_accuracy: 0.7897 - val_precision: 0.6596 - val_recall: 0.3664\n",
      "Epoch 18/40\n",
      "546/546 [==============================] - 1s 1ms/step - loss: 0.4600 - binary_accuracy: 0.7959 - precision: 0.6865 - recall: 0.3665 - val_loss: 0.4722 - val_binary_accuracy: 0.7890 - val_precision: 0.6552 - val_recall: 0.3682\n",
      "Epoch 19/40\n",
      "546/546 [==============================] - 1s 1ms/step - loss: 0.4605 - binary_accuracy: 0.7959 - precision: 0.6888 - recall: 0.3633 - val_loss: 0.4698 - val_binary_accuracy: 0.7942 - val_precision: 0.6808 - val_recall: 0.3667\n",
      "Epoch 20/40\n",
      "546/546 [==============================] - 1s 1ms/step - loss: 0.4598 - binary_accuracy: 0.7966 - precision: 0.6888 - recall: 0.3681 - val_loss: 0.4700 - val_binary_accuracy: 0.7929 - val_precision: 0.6750 - val_recall: 0.3660\n",
      "Epoch 21/40\n",
      "546/546 [==============================] - 1s 1ms/step - loss: 0.4592 - binary_accuracy: 0.7968 - precision: 0.6913 - recall: 0.3662 - val_loss: 0.4670 - val_binary_accuracy: 0.7940 - val_precision: 0.6858 - val_recall: 0.3582\n",
      "Epoch 22/40\n",
      "546/546 [==============================] - 1s 1ms/step - loss: 0.4579 - binary_accuracy: 0.7974 - precision: 0.6907 - recall: 0.3708 - val_loss: 0.4699 - val_binary_accuracy: 0.7913 - val_precision: 0.6662 - val_recall: 0.3682\n",
      "Epoch 23/40\n",
      "546/546 [==============================] - 1s 1ms/step - loss: 0.4587 - binary_accuracy: 0.7969 - precision: 0.6897 - recall: 0.3690 - val_loss: 0.4672 - val_binary_accuracy: 0.7930 - val_precision: 0.6729 - val_recall: 0.3700\n",
      "Epoch 24/40\n",
      "546/546 [==============================] - 1s 1ms/step - loss: 0.4575 - binary_accuracy: 0.7968 - precision: 0.6902 - recall: 0.3676 - val_loss: 0.4669 - val_binary_accuracy: 0.7929 - val_precision: 0.6716 - val_recall: 0.3714\n",
      "Epoch 25/40\n",
      "546/546 [==============================] - 1s 1ms/step - loss: 0.4574 - binary_accuracy: 0.7973 - precision: 0.6922 - recall: 0.3683 - val_loss: 0.4666 - val_binary_accuracy: 0.7953 - val_precision: 0.6809 - val_recall: 0.3746\n",
      "Epoch 26/40\n",
      "546/546 [==============================] - 1s 1ms/step - loss: 0.4575 - binary_accuracy: 0.7971 - precision: 0.6932 - recall: 0.3656 - val_loss: 0.4672 - val_binary_accuracy: 0.7929 - val_precision: 0.6736 - val_recall: 0.3682\n",
      "Epoch 27/40\n",
      "546/546 [==============================] - 1s 1ms/step - loss: 0.4572 - binary_accuracy: 0.7974 - precision: 0.6942 - recall: 0.3661 - val_loss: 0.4665 - val_binary_accuracy: 0.7935 - val_precision: 0.6810 - val_recall: 0.3618\n",
      "Epoch 28/40\n",
      "546/546 [==============================] - 1s 1ms/step - loss: 0.4567 - binary_accuracy: 0.7977 - precision: 0.6948 - recall: 0.3678 - val_loss: 0.4654 - val_binary_accuracy: 0.7941 - val_precision: 0.6773 - val_recall: 0.3714\n",
      "Epoch 29/40\n",
      "546/546 [==============================] - 1s 1ms/step - loss: 0.4567 - binary_accuracy: 0.7987 - precision: 0.6968 - recall: 0.3715 - val_loss: 0.4659 - val_binary_accuracy: 0.7947 - val_precision: 0.6835 - val_recall: 0.3667\n",
      "Epoch 30/40\n",
      "546/546 [==============================] - 1s 1ms/step - loss: 0.4563 - binary_accuracy: 0.7975 - precision: 0.6908 - recall: 0.3715 - val_loss: 0.4652 - val_binary_accuracy: 0.7935 - val_precision: 0.6740 - val_recall: 0.3725\n",
      "Epoch 31/40\n",
      "546/546 [==============================] - 1s 1ms/step - loss: 0.4562 - binary_accuracy: 0.7975 - precision: 0.6899 - recall: 0.3728 - val_loss: 0.4660 - val_binary_accuracy: 0.7948 - val_precision: 0.6849 - val_recall: 0.3653\n",
      "Epoch 32/40\n",
      "546/546 [==============================] - 1s 1ms/step - loss: 0.4557 - binary_accuracy: 0.7974 - precision: 0.6913 - recall: 0.3706 - val_loss: 0.4677 - val_binary_accuracy: 0.7935 - val_precision: 0.6788 - val_recall: 0.3650\n",
      "Epoch 33/40\n",
      "546/546 [==============================] - 1s 1ms/step - loss: 0.4553 - binary_accuracy: 0.7979 - precision: 0.6965 - recall: 0.3668 - val_loss: 0.4665 - val_binary_accuracy: 0.7919 - val_precision: 0.6652 - val_recall: 0.3742\n",
      "Epoch 34/40\n",
      "546/546 [==============================] - 1s 1ms/step - loss: 0.4546 - binary_accuracy: 0.7979 - precision: 0.6924 - recall: 0.3723 - val_loss: 0.4649 - val_binary_accuracy: 0.7927 - val_precision: 0.6714 - val_recall: 0.3703\n",
      "Epoch 35/40\n",
      "546/546 [==============================] - 1s 1ms/step - loss: 0.4549 - binary_accuracy: 0.7975 - precision: 0.6900 - recall: 0.3731 - val_loss: 0.4655 - val_binary_accuracy: 0.7935 - val_precision: 0.6744 - val_recall: 0.3717\n",
      "Epoch 36/40\n",
      "546/546 [==============================] - 1s 1ms/step - loss: 0.4544 - binary_accuracy: 0.7979 - precision: 0.6929 - recall: 0.3716 - val_loss: 0.4670 - val_binary_accuracy: 0.7926 - val_precision: 0.6682 - val_recall: 0.3750\n",
      "Epoch 37/40\n",
      "546/546 [==============================] - 1s 1ms/step - loss: 0.4543 - binary_accuracy: 0.7984 - precision: 0.6974 - recall: 0.3688 - val_loss: 0.4667 - val_binary_accuracy: 0.7938 - val_precision: 0.6792 - val_recall: 0.3664\n",
      "Epoch 38/40\n",
      "546/546 [==============================] - 1s 1ms/step - loss: 0.4548 - binary_accuracy: 0.7979 - precision: 0.6950 - recall: 0.3685 - val_loss: 0.4644 - val_binary_accuracy: 0.7945 - val_precision: 0.6781 - val_recall: 0.3735\n",
      "Epoch 39/40\n",
      "546/546 [==============================] - 1s 1ms/step - loss: 0.4532 - binary_accuracy: 0.7985 - precision: 0.6959 - recall: 0.3716 - val_loss: 0.4661 - val_binary_accuracy: 0.7942 - val_precision: 0.6726 - val_recall: 0.3796\n",
      "Epoch 40/40\n",
      "546/546 [==============================] - 1s 1ms/step - loss: 0.4538 - binary_accuracy: 0.7991 - precision: 0.6976 - recall: 0.3733 - val_loss: 0.4638 - val_binary_accuracy: 0.7931 - val_precision: 0.6743 - val_recall: 0.3685\n"
     ]
    },
    {
     "data": {
      "text/plain": [
       "<keras.callbacks.History at 0x7f8ab096a0b0>"
      ]
     },
     "execution_count": 6,
     "metadata": {},
     "output_type": "execute_result"
    }
   ],
   "source": [
    "modelX.compile(\n",
    "    loss='binary_crossentropy',\n",
    "    optimizer='adam',\n",
    "    metrics=['binary_accuracy', 'Precision', 'Recall']\n",
    ")\n",
    "\n",
    "modelX.fit(\n",
    "    X_train_scaled, Z_train, epochs = 40, batch_size=32, validation_data=(X_val_scaled, Z_val)\n",
    ")"
   ]
  },
  {
   "cell_type": "code",
   "execution_count": 7,
   "metadata": {},
   "outputs": [],
   "source": [
    "# Y model\n",
    "\n",
    "# interpretation: returns a tuple of dimension 1 and 2, so (5000, 12)\n",
    "Y_input = tf.keras.layers.Input(Y_train_scaled.shape[1:])\n",
    "\n",
    "Y = Conv1D(128, 3, padding='same')(Y_input)\n",
    "Y = BatchNormalization()(Y)\n",
    "Y = ReLU()(Y)\n",
    "Y = MaxPooling1D(2)(Y)\n",
    "\n",
    "Y = Conv1D(128, 3, padding='same')(Y)\n",
    "Y = BatchNormalization()(Y)\n",
    "Y = ReLU()(Y)\n",
    "Y = MaxPooling1D(2)(Y)\n",
    "\n",
    "Y = Conv1D(64, 3, padding='same')(Y)\n",
    "Y = BatchNormalization()(Y)\n",
    "Y = ReLU()(Y)\n",
    "\n",
    "Y = GlobalAveragePooling1D()(Y)\n",
    "\n",
    "Y = Dropout(0.3)(Y)\n"
   ]
  },
  {
   "cell_type": "code",
   "execution_count": 8,
   "metadata": {},
   "outputs": [],
   "source": [
    "Z = Concatenate()([output, Y])\n",
    "Z = Dense(64, activation='relu')(Z)\n",
    "Z = Dense(64, activation='relu')(Z)\n",
    "Z = Dropout(0.4)(Z)\n",
    "output = Dense(Z_train.shape[-1], activation=\"sigmoid\")(Z)\n",
    "\n",
    "modelZ = tf.keras.Model(inputs=[X_input, Y_input], outputs=output)"
   ]
  },
  {
   "cell_type": "code",
   "execution_count": 9,
   "metadata": {},
   "outputs": [
    {
     "name": "stdout",
     "output_type": "stream",
     "text": [
      "Model: \"model_1\"\n",
      "__________________________________________________________________________________________________\n",
      " Layer (type)                   Output Shape         Param #     Connected to                     \n",
      "==================================================================================================\n",
      " input_2 (InputLayer)           [(None, 5000, 12)]   0           []                               \n",
      "                                                                                                  \n",
      " conv1d (Conv1D)                (None, 5000, 128)    4736        ['input_2[0][0]']                \n",
      "                                                                                                  \n",
      " batch_normalization (BatchNorm  (None, 5000, 128)   512         ['conv1d[0][0]']                 \n",
      " alization)                                                                                       \n",
      "                                                                                                  \n",
      " re_lu (ReLU)                   (None, 5000, 128)    0           ['batch_normalization[0][0]']    \n",
      "                                                                                                  \n",
      " max_pooling1d (MaxPooling1D)   (None, 2500, 128)    0           ['re_lu[0][0]']                  \n",
      "                                                                                                  \n",
      " input_1 (InputLayer)           [(None, 7)]          0           []                               \n",
      "                                                                                                  \n",
      " conv1d_1 (Conv1D)              (None, 2500, 128)    49280       ['max_pooling1d[0][0]']          \n",
      "                                                                                                  \n",
      " dense (Dense)                  (None, 128)          1024        ['input_1[0][0]']                \n",
      "                                                                                                  \n",
      " batch_normalization_1 (BatchNo  (None, 2500, 128)   512         ['conv1d_1[0][0]']               \n",
      " rmalization)                                                                                     \n",
      "                                                                                                  \n",
      " dropout (Dropout)              (None, 128)          0           ['dense[0][0]']                  \n",
      "                                                                                                  \n",
      " re_lu_1 (ReLU)                 (None, 2500, 128)    0           ['batch_normalization_1[0][0]']  \n",
      "                                                                                                  \n",
      " dense_1 (Dense)                (None, 128)          16512       ['dropout[0][0]']                \n",
      "                                                                                                  \n",
      " max_pooling1d_1 (MaxPooling1D)  (None, 1250, 128)   0           ['re_lu_1[0][0]']                \n",
      "                                                                                                  \n",
      " dropout_1 (Dropout)            (None, 128)          0           ['dense_1[0][0]']                \n",
      "                                                                                                  \n",
      " conv1d_2 (Conv1D)              (None, 1250, 64)     24640       ['max_pooling1d_1[0][0]']        \n",
      "                                                                                                  \n",
      " dense_2 (Dense)                (None, 64)           8256        ['dropout_1[0][0]']              \n",
      "                                                                                                  \n",
      " batch_normalization_2 (BatchNo  (None, 1250, 64)    256         ['conv1d_2[0][0]']               \n",
      " rmalization)                                                                                     \n",
      "                                                                                                  \n",
      " dropout_2 (Dropout)            (None, 64)           0           ['dense_2[0][0]']                \n",
      "                                                                                                  \n",
      " re_lu_2 (ReLU)                 (None, 1250, 64)     0           ['batch_normalization_2[0][0]']  \n",
      "                                                                                                  \n",
      " dense_3 (Dense)                (None, 32)           2080        ['dropout_2[0][0]']              \n",
      "                                                                                                  \n",
      " global_average_pooling1d (Glob  (None, 64)          0           ['re_lu_2[0][0]']                \n",
      " alAveragePooling1D)                                                                              \n",
      "                                                                                                  \n",
      " dense_4 (Dense)                (None, 5)            165         ['dense_3[0][0]']                \n",
      "                                                                                                  \n",
      " dropout_3 (Dropout)            (None, 64)           0           ['global_average_pooling1d[0][0]'\n",
      "                                                                 ]                                \n",
      "                                                                                                  \n",
      " concatenate (Concatenate)      (None, 69)           0           ['dense_4[0][0]',                \n",
      "                                                                  'dropout_3[0][0]']              \n",
      "                                                                                                  \n",
      " dense_5 (Dense)                (None, 64)           4480        ['concatenate[0][0]']            \n",
      "                                                                                                  \n",
      " dense_6 (Dense)                (None, 64)           4160        ['dense_5[0][0]']                \n",
      "                                                                                                  \n",
      " dropout_4 (Dropout)            (None, 64)           0           ['dense_6[0][0]']                \n",
      "                                                                                                  \n",
      " dense_7 (Dense)                (None, 5)            325         ['dropout_4[0][0]']              \n",
      "                                                                                                  \n",
      "==================================================================================================\n",
      "Total params: 116,938\n",
      "Trainable params: 116,298\n",
      "Non-trainable params: 640\n",
      "__________________________________________________________________________________________________\n"
     ]
    }
   ],
   "source": [
    "modelZ.compile(\n",
    "    loss='binary_crossentropy',\n",
    "    optimizer='adam',\n",
    "    metrics=['binary_accuracy', 'Precision', 'Recall']\n",
    ")\n",
    "\n",
    "modelZ.summary()"
   ]
  },
  {
   "cell_type": "code",
   "execution_count": 10,
   "metadata": {},
   "outputs": [
    {
     "name": "stdout",
     "output_type": "stream",
     "text": [
      "Epoch 1/100\n",
      "545/546 [============================>.] - ETA: 0s - loss: 0.4251 - binary_accuracy: 0.8099 - precision: 0.6879 - recall: 0.4652"
     ]
    },
    {
     "name": "stderr",
     "output_type": "stream",
     "text": [
      "WARNING:absl:Found untraced functions such as _jit_compiled_convolution_op, _jit_compiled_convolution_op, _jit_compiled_convolution_op while saving (showing 3 of 3). These functions will not be directly callable after loading.\n"
     ]
    },
    {
     "name": "stdout",
     "output_type": "stream",
     "text": [
      "INFO:tensorflow:Assets written to: ./models/assets\n"
     ]
    },
    {
     "name": "stderr",
     "output_type": "stream",
     "text": [
      "INFO:tensorflow:Assets written to: ./models/assets\n"
     ]
    },
    {
     "name": "stdout",
     "output_type": "stream",
     "text": [
      "546/546 [==============================] - 173s 313ms/step - loss: 0.4251 - binary_accuracy: 0.8099 - precision: 0.6879 - recall: 0.4652 - val_loss: 0.3656 - val_binary_accuracy: 0.8410 - val_precision: 0.7701 - val_recall: 0.5391\n",
      "Epoch 2/100\n",
      "545/546 [============================>.] - ETA: 0s - loss: 0.3685 - binary_accuracy: 0.8433 - precision: 0.7498 - recall: 0.5781"
     ]
    },
    {
     "name": "stderr",
     "output_type": "stream",
     "text": [
      "WARNING:absl:Found untraced functions such as _jit_compiled_convolution_op, _jit_compiled_convolution_op, _jit_compiled_convolution_op while saving (showing 3 of 3). These functions will not be directly callable after loading.\n"
     ]
    },
    {
     "name": "stdout",
     "output_type": "stream",
     "text": [
      "INFO:tensorflow:Assets written to: ./models/assets\n"
     ]
    },
    {
     "name": "stderr",
     "output_type": "stream",
     "text": [
      "INFO:tensorflow:Assets written to: ./models/assets\n"
     ]
    },
    {
     "name": "stdout",
     "output_type": "stream",
     "text": [
      "546/546 [==============================] - 165s 302ms/step - loss: 0.3685 - binary_accuracy: 0.8433 - precision: 0.7498 - recall: 0.5781 - val_loss: 0.3547 - val_binary_accuracy: 0.8500 - val_precision: 0.7524 - val_recall: 0.6158\n",
      "Epoch 3/100\n",
      "545/546 [============================>.] - ETA: 0s - loss: 0.3533 - binary_accuracy: 0.8516 - precision: 0.7603 - recall: 0.6100"
     ]
    },
    {
     "name": "stderr",
     "output_type": "stream",
     "text": [
      "WARNING:absl:Found untraced functions such as _jit_compiled_convolution_op, _jit_compiled_convolution_op, _jit_compiled_convolution_op while saving (showing 3 of 3). These functions will not be directly callable after loading.\n"
     ]
    },
    {
     "name": "stdout",
     "output_type": "stream",
     "text": [
      "INFO:tensorflow:Assets written to: ./models/assets\n"
     ]
    },
    {
     "name": "stderr",
     "output_type": "stream",
     "text": [
      "INFO:tensorflow:Assets written to: ./models/assets\n"
     ]
    },
    {
     "name": "stdout",
     "output_type": "stream",
     "text": [
      "546/546 [==============================] - 155s 283ms/step - loss: 0.3533 - binary_accuracy: 0.8516 - precision: 0.7603 - recall: 0.6100 - val_loss: 0.3567 - val_binary_accuracy: 0.8505 - val_precision: 0.7582 - val_recall: 0.6097\n",
      "Epoch 4/100\n",
      "545/546 [============================>.] - ETA: 1s - loss: 0.3424 - binary_accuracy: 0.8583 - precision: 0.7753 - recall: 0.6251"
     ]
    },
    {
     "name": "stderr",
     "output_type": "stream",
     "text": [
      "WARNING:absl:Found untraced functions such as _jit_compiled_convolution_op, _jit_compiled_convolution_op, _jit_compiled_convolution_op while saving (showing 3 of 3). These functions will not be directly callable after loading.\n"
     ]
    },
    {
     "name": "stdout",
     "output_type": "stream",
     "text": [
      "INFO:tensorflow:Assets written to: ./models/assets\n"
     ]
    },
    {
     "name": "stderr",
     "output_type": "stream",
     "text": [
      "INFO:tensorflow:Assets written to: ./models/assets\n"
     ]
    },
    {
     "name": "stdout",
     "output_type": "stream",
     "text": [
      "546/546 [==============================] - 684s 1s/step - loss: 0.3424 - binary_accuracy: 0.8583 - precision: 0.7753 - recall: 0.6251 - val_loss: 0.3378 - val_binary_accuracy: 0.8599 - val_precision: 0.7674 - val_recall: 0.6486\n",
      "Epoch 5/100\n",
      "545/546 [============================>.] - ETA: 0s - loss: 0.3346 - binary_accuracy: 0.8634 - precision: 0.7844 - recall: 0.6398"
     ]
    },
    {
     "name": "stderr",
     "output_type": "stream",
     "text": [
      "WARNING:absl:Found untraced functions such as _jit_compiled_convolution_op, _jit_compiled_convolution_op, _jit_compiled_convolution_op while saving (showing 3 of 3). These functions will not be directly callable after loading.\n"
     ]
    },
    {
     "name": "stdout",
     "output_type": "stream",
     "text": [
      "INFO:tensorflow:Assets written to: ./models/assets\n"
     ]
    },
    {
     "name": "stderr",
     "output_type": "stream",
     "text": [
      "INFO:tensorflow:Assets written to: ./models/assets\n"
     ]
    },
    {
     "name": "stdout",
     "output_type": "stream",
     "text": [
      "546/546 [==============================] - 150s 275ms/step - loss: 0.3346 - binary_accuracy: 0.8634 - precision: 0.7843 - recall: 0.6398 - val_loss: 0.3298 - val_binary_accuracy: 0.8669 - val_precision: 0.7843 - val_recall: 0.6614\n",
      "Epoch 6/100\n",
      "545/546 [============================>.] - ETA: 0s - loss: 0.3305 - binary_accuracy: 0.8638 - precision: 0.7844 - recall: 0.6418"
     ]
    },
    {
     "name": "stderr",
     "output_type": "stream",
     "text": [
      "WARNING:absl:Found untraced functions such as _jit_compiled_convolution_op, _jit_compiled_convolution_op, _jit_compiled_convolution_op while saving (showing 3 of 3). These functions will not be directly callable after loading.\n"
     ]
    },
    {
     "name": "stdout",
     "output_type": "stream",
     "text": [
      "INFO:tensorflow:Assets written to: ./models/assets\n"
     ]
    },
    {
     "name": "stderr",
     "output_type": "stream",
     "text": [
      "INFO:tensorflow:Assets written to: ./models/assets\n"
     ]
    },
    {
     "name": "stdout",
     "output_type": "stream",
     "text": [
      "546/546 [==============================] - 142s 260ms/step - loss: 0.3305 - binary_accuracy: 0.8638 - precision: 0.7844 - recall: 0.6418 - val_loss: 0.3210 - val_binary_accuracy: 0.8683 - val_precision: 0.7961 - val_recall: 0.6518\n",
      "Epoch 7/100\n",
      "546/546 [==============================] - 139s 255ms/step - loss: 0.3223 - binary_accuracy: 0.8677 - precision: 0.7903 - recall: 0.6544 - val_loss: 0.3214 - val_binary_accuracy: 0.8679 - val_precision: 0.7903 - val_recall: 0.6575\n",
      "Epoch 8/100\n",
      "546/546 [==============================] - 141s 259ms/step - loss: 0.3193 - binary_accuracy: 0.8705 - precision: 0.7956 - recall: 0.6621 - val_loss: 0.3186 - val_binary_accuracy: 0.8664 - val_precision: 0.7973 - val_recall: 0.6400\n",
      "Epoch 9/100\n",
      "545/546 [============================>.] - ETA: 0s - loss: 0.3148 - binary_accuracy: 0.8702 - precision: 0.7932 - recall: 0.6637"
     ]
    },
    {
     "name": "stderr",
     "output_type": "stream",
     "text": [
      "WARNING:absl:Found untraced functions such as _jit_compiled_convolution_op, _jit_compiled_convolution_op, _jit_compiled_convolution_op while saving (showing 3 of 3). These functions will not be directly callable after loading.\n"
     ]
    },
    {
     "name": "stdout",
     "output_type": "stream",
     "text": [
      "INFO:tensorflow:Assets written to: ./models/assets\n"
     ]
    },
    {
     "name": "stderr",
     "output_type": "stream",
     "text": [
      "INFO:tensorflow:Assets written to: ./models/assets\n"
     ]
    },
    {
     "name": "stdout",
     "output_type": "stream",
     "text": [
      "546/546 [==============================] - 142s 260ms/step - loss: 0.3148 - binary_accuracy: 0.8702 - precision: 0.7932 - recall: 0.6637 - val_loss: 0.3095 - val_binary_accuracy: 0.8718 - val_precision: 0.8002 - val_recall: 0.6643\n",
      "Epoch 10/100\n",
      "546/546 [==============================] - 141s 259ms/step - loss: 0.3116 - binary_accuracy: 0.8725 - precision: 0.7968 - recall: 0.6706 - val_loss: 0.3128 - val_binary_accuracy: 0.8700 - val_precision: 0.7998 - val_recall: 0.6557\n",
      "Epoch 11/100\n",
      "545/546 [============================>.] - ETA: 0s - loss: 0.3062 - binary_accuracy: 0.8750 - precision: 0.8003 - recall: 0.6789"
     ]
    },
    {
     "name": "stderr",
     "output_type": "stream",
     "text": [
      "WARNING:absl:Found untraced functions such as _jit_compiled_convolution_op, _jit_compiled_convolution_op, _jit_compiled_convolution_op while saving (showing 3 of 3). These functions will not be directly callable after loading.\n"
     ]
    },
    {
     "name": "stdout",
     "output_type": "stream",
     "text": [
      "INFO:tensorflow:Assets written to: ./models/assets\n"
     ]
    },
    {
     "name": "stderr",
     "output_type": "stream",
     "text": [
      "INFO:tensorflow:Assets written to: ./models/assets\n"
     ]
    },
    {
     "name": "stdout",
     "output_type": "stream",
     "text": [
      "546/546 [==============================] - 144s 263ms/step - loss: 0.3062 - binary_accuracy: 0.8750 - precision: 0.8003 - recall: 0.6789 - val_loss: 0.3093 - val_binary_accuracy: 0.8730 - val_precision: 0.7945 - val_recall: 0.6786\n",
      "Epoch 12/100\n",
      "546/546 [==============================] - 140s 256ms/step - loss: 0.3068 - binary_accuracy: 0.8762 - precision: 0.8040 - recall: 0.6796 - val_loss: 0.3088 - val_binary_accuracy: 0.8715 - val_precision: 0.7941 - val_recall: 0.6714\n",
      "Epoch 13/100\n",
      "546/546 [==============================] - 139s 254ms/step - loss: 0.3003 - binary_accuracy: 0.8771 - precision: 0.8041 - recall: 0.6846 - val_loss: 0.3227 - val_binary_accuracy: 0.8706 - val_precision: 0.7903 - val_recall: 0.6721\n",
      "Epoch 14/100\n",
      "546/546 [==============================] - 139s 254ms/step - loss: 0.2989 - binary_accuracy: 0.8780 - precision: 0.8053 - recall: 0.6872 - val_loss: 0.3086 - val_binary_accuracy: 0.8722 - val_precision: 0.7911 - val_recall: 0.6796\n",
      "Epoch 15/100\n",
      "545/546 [============================>.] - ETA: 0s - loss: 0.2952 - binary_accuracy: 0.8793 - precision: 0.8077 - recall: 0.6907"
     ]
    },
    {
     "name": "stderr",
     "output_type": "stream",
     "text": [
      "WARNING:absl:Found untraced functions such as _jit_compiled_convolution_op, _jit_compiled_convolution_op, _jit_compiled_convolution_op while saving (showing 3 of 3). These functions will not be directly callable after loading.\n"
     ]
    },
    {
     "name": "stdout",
     "output_type": "stream",
     "text": [
      "INFO:tensorflow:Assets written to: ./models/assets\n"
     ]
    },
    {
     "name": "stderr",
     "output_type": "stream",
     "text": [
      "INFO:tensorflow:Assets written to: ./models/assets\n"
     ]
    },
    {
     "name": "stdout",
     "output_type": "stream",
     "text": [
      "546/546 [==============================] - 141s 258ms/step - loss: 0.2952 - binary_accuracy: 0.8793 - precision: 0.8077 - recall: 0.6906 - val_loss: 0.3153 - val_binary_accuracy: 0.8747 - val_precision: 0.7848 - val_recall: 0.7025\n",
      "Epoch 16/100\n",
      "545/546 [============================>.] - ETA: 0s - loss: 0.2938 - binary_accuracy: 0.8801 - precision: 0.8071 - recall: 0.6961"
     ]
    },
    {
     "name": "stderr",
     "output_type": "stream",
     "text": [
      "WARNING:absl:Found untraced functions such as _jit_compiled_convolution_op, _jit_compiled_convolution_op, _jit_compiled_convolution_op while saving (showing 3 of 3). These functions will not be directly callable after loading.\n"
     ]
    },
    {
     "name": "stdout",
     "output_type": "stream",
     "text": [
      "INFO:tensorflow:Assets written to: ./models/assets\n"
     ]
    },
    {
     "name": "stderr",
     "output_type": "stream",
     "text": [
      "INFO:tensorflow:Assets written to: ./models/assets\n"
     ]
    },
    {
     "name": "stdout",
     "output_type": "stream",
     "text": [
      "546/546 [==============================] - 140s 256ms/step - loss: 0.2938 - binary_accuracy: 0.8801 - precision: 0.8071 - recall: 0.6960 - val_loss: 0.3007 - val_binary_accuracy: 0.8762 - val_precision: 0.8017 - val_recall: 0.6850\n",
      "Epoch 17/100\n",
      "545/546 [============================>.] - ETA: 0s - loss: 0.2920 - binary_accuracy: 0.8810 - precision: 0.8098 - recall: 0.6964"
     ]
    },
    {
     "name": "stderr",
     "output_type": "stream",
     "text": [
      "WARNING:absl:Found untraced functions such as _jit_compiled_convolution_op, _jit_compiled_convolution_op, _jit_compiled_convolution_op while saving (showing 3 of 3). These functions will not be directly callable after loading.\n"
     ]
    },
    {
     "name": "stdout",
     "output_type": "stream",
     "text": [
      "INFO:tensorflow:Assets written to: ./models/assets\n"
     ]
    },
    {
     "name": "stderr",
     "output_type": "stream",
     "text": [
      "INFO:tensorflow:Assets written to: ./models/assets\n"
     ]
    },
    {
     "name": "stdout",
     "output_type": "stream",
     "text": [
      "546/546 [==============================] - 139s 254ms/step - loss: 0.2920 - binary_accuracy: 0.8810 - precision: 0.8098 - recall: 0.6964 - val_loss: 0.2956 - val_binary_accuracy: 0.8793 - val_precision: 0.8073 - val_recall: 0.6935\n",
      "Epoch 18/100\n",
      "546/546 [==============================] - 138s 252ms/step - loss: 0.2878 - binary_accuracy: 0.8832 - precision: 0.8126 - recall: 0.7039 - val_loss: 0.2963 - val_binary_accuracy: 0.8784 - val_precision: 0.7959 - val_recall: 0.7053\n",
      "Epoch 19/100\n",
      "546/546 [==============================] - 139s 255ms/step - loss: 0.2882 - binary_accuracy: 0.8827 - precision: 0.8129 - recall: 0.7009 - val_loss: 0.2957 - val_binary_accuracy: 0.8791 - val_precision: 0.8001 - val_recall: 0.7025\n",
      "Epoch 20/100\n",
      "546/546 [==============================] - 139s 254ms/step - loss: 0.2836 - binary_accuracy: 0.8841 - precision: 0.8137 - recall: 0.7072 - val_loss: 0.3021 - val_binary_accuracy: 0.8779 - val_precision: 0.7802 - val_recall: 0.7271\n",
      "Epoch 21/100\n",
      "546/546 [==============================] - 139s 255ms/step - loss: 0.2831 - binary_accuracy: 0.8856 - precision: 0.8173 - recall: 0.7098 - val_loss: 0.2998 - val_binary_accuracy: 0.8767 - val_precision: 0.7915 - val_recall: 0.7028\n",
      "Epoch 22/100\n",
      "545/546 [============================>.] - ETA: 0s - loss: 0.2828 - binary_accuracy: 0.8856 - precision: 0.8182 - recall: 0.7083"
     ]
    },
    {
     "name": "stderr",
     "output_type": "stream",
     "text": [
      "WARNING:absl:Found untraced functions such as _jit_compiled_convolution_op, _jit_compiled_convolution_op, _jit_compiled_convolution_op while saving (showing 3 of 3). These functions will not be directly callable after loading.\n"
     ]
    },
    {
     "name": "stdout",
     "output_type": "stream",
     "text": [
      "INFO:tensorflow:Assets written to: ./models/assets\n"
     ]
    },
    {
     "name": "stderr",
     "output_type": "stream",
     "text": [
      "INFO:tensorflow:Assets written to: ./models/assets\n"
     ]
    },
    {
     "name": "stdout",
     "output_type": "stream",
     "text": [
      "546/546 [==============================] - 141s 258ms/step - loss: 0.2828 - binary_accuracy: 0.8856 - precision: 0.8182 - recall: 0.7083 - val_loss: 0.2936 - val_binary_accuracy: 0.8816 - val_precision: 0.8150 - val_recall: 0.6946\n",
      "Epoch 23/100\n",
      "546/546 [==============================] - 139s 255ms/step - loss: 0.2819 - binary_accuracy: 0.8864 - precision: 0.8206 - recall: 0.7095 - val_loss: 0.2931 - val_binary_accuracy: 0.8813 - val_precision: 0.7994 - val_recall: 0.7149\n",
      "Epoch 24/100\n",
      "545/546 [============================>.] - ETA: 0s - loss: 0.2801 - binary_accuracy: 0.8860 - precision: 0.8183 - recall: 0.7103"
     ]
    },
    {
     "name": "stderr",
     "output_type": "stream",
     "text": [
      "WARNING:absl:Found untraced functions such as _jit_compiled_convolution_op, _jit_compiled_convolution_op, _jit_compiled_convolution_op while saving (showing 3 of 3). These functions will not be directly callable after loading.\n"
     ]
    },
    {
     "name": "stdout",
     "output_type": "stream",
     "text": [
      "INFO:tensorflow:Assets written to: ./models/assets\n"
     ]
    },
    {
     "name": "stderr",
     "output_type": "stream",
     "text": [
      "INFO:tensorflow:Assets written to: ./models/assets\n"
     ]
    },
    {
     "name": "stdout",
     "output_type": "stream",
     "text": [
      "546/546 [==============================] - 142s 260ms/step - loss: 0.2801 - binary_accuracy: 0.8860 - precision: 0.8183 - recall: 0.7103 - val_loss: 0.2944 - val_binary_accuracy: 0.8816 - val_precision: 0.8040 - val_recall: 0.7100\n",
      "Epoch 25/100\n",
      "546/546 [==============================] - 140s 257ms/step - loss: 0.2781 - binary_accuracy: 0.8879 - precision: 0.8211 - recall: 0.7160 - val_loss: 0.2944 - val_binary_accuracy: 0.8806 - val_precision: 0.8042 - val_recall: 0.7046\n",
      "Epoch 26/100\n",
      "546/546 [==============================] - 140s 256ms/step - loss: 0.2783 - binary_accuracy: 0.8879 - precision: 0.8219 - recall: 0.7150 - val_loss: 0.2943 - val_binary_accuracy: 0.8790 - val_precision: 0.8015 - val_recall: 0.7000\n",
      "Epoch 27/100\n",
      "546/546 [==============================] - 139s 255ms/step - loss: 0.2779 - binary_accuracy: 0.8880 - precision: 0.8224 - recall: 0.7149 - val_loss: 0.2985 - val_binary_accuracy: 0.8783 - val_precision: 0.7844 - val_recall: 0.7228\n",
      "Epoch 28/100\n",
      "546/546 [==============================] - 139s 254ms/step - loss: 0.2769 - binary_accuracy: 0.8887 - precision: 0.8247 - recall: 0.7151 - val_loss: 0.3079 - val_binary_accuracy: 0.8783 - val_precision: 0.8024 - val_recall: 0.6953\n",
      "Epoch 29/100\n",
      "546/546 [==============================] - 139s 254ms/step - loss: 0.2743 - binary_accuracy: 0.8887 - precision: 0.8247 - recall: 0.7154 - val_loss: 0.2931 - val_binary_accuracy: 0.8786 - val_precision: 0.8074 - val_recall: 0.6896\n",
      "Epoch 30/100\n",
      "546/546 [==============================] - 139s 255ms/step - loss: 0.2749 - binary_accuracy: 0.8890 - precision: 0.8245 - recall: 0.7173 - val_loss: 0.3009 - val_binary_accuracy: 0.8780 - val_precision: 0.7929 - val_recall: 0.7075\n",
      "Epoch 31/100\n",
      "546/546 [==============================] - 139s 254ms/step - loss: 0.2731 - binary_accuracy: 0.8902 - precision: 0.8260 - recall: 0.7208 - val_loss: 0.2930 - val_binary_accuracy: 0.8809 - val_precision: 0.8039 - val_recall: 0.7064\n",
      "Epoch 32/100\n",
      "546/546 [==============================] - 138s 254ms/step - loss: 0.2724 - binary_accuracy: 0.8906 - precision: 0.8274 - recall: 0.7214 - val_loss: 0.3063 - val_binary_accuracy: 0.8766 - val_precision: 0.7981 - val_recall: 0.6925\n",
      "Epoch 33/100\n",
      "546/546 [==============================] - 139s 254ms/step - loss: 0.2708 - binary_accuracy: 0.8900 - precision: 0.8253 - recall: 0.7211 - val_loss: 0.3059 - val_binary_accuracy: 0.8785 - val_precision: 0.7908 - val_recall: 0.7135\n",
      "Epoch 34/100\n",
      "546/546 [==============================] - 139s 254ms/step - loss: 0.2701 - binary_accuracy: 0.8909 - precision: 0.8258 - recall: 0.7247 - val_loss: 0.3063 - val_binary_accuracy: 0.8782 - val_precision: 0.7974 - val_recall: 0.7021\n",
      "Epoch 35/100\n",
      "545/546 [============================>.] - ETA: 0s - loss: 0.2703 - binary_accuracy: 0.8915 - precision: 0.8300 - recall: 0.7222"
     ]
    },
    {
     "name": "stderr",
     "output_type": "stream",
     "text": [
      "WARNING:absl:Found untraced functions such as _jit_compiled_convolution_op, _jit_compiled_convolution_op, _jit_compiled_convolution_op while saving (showing 3 of 3). These functions will not be directly callable after loading.\n"
     ]
    },
    {
     "name": "stdout",
     "output_type": "stream",
     "text": [
      "INFO:tensorflow:Assets written to: ./models/assets\n"
     ]
    },
    {
     "name": "stderr",
     "output_type": "stream",
     "text": [
      "INFO:tensorflow:Assets written to: ./models/assets\n"
     ]
    },
    {
     "name": "stdout",
     "output_type": "stream",
     "text": [
      "546/546 [==============================] - 141s 258ms/step - loss: 0.2703 - binary_accuracy: 0.8915 - precision: 0.8300 - recall: 0.7222 - val_loss: 0.2928 - val_binary_accuracy: 0.8817 - val_precision: 0.8010 - val_recall: 0.7149\n",
      "Epoch 36/100\n",
      "546/546 [==============================] - 140s 256ms/step - loss: 0.2699 - binary_accuracy: 0.8908 - precision: 0.8295 - recall: 0.7194 - val_loss: 0.2974 - val_binary_accuracy: 0.8779 - val_precision: 0.8007 - val_recall: 0.6953\n",
      "Epoch 37/100\n",
      "546/546 [==============================] - 139s 254ms/step - loss: 0.2671 - binary_accuracy: 0.8928 - precision: 0.8321 - recall: 0.7259 - val_loss: 0.2954 - val_binary_accuracy: 0.8812 - val_precision: 0.8061 - val_recall: 0.7046\n",
      "Epoch 38/100\n",
      "546/546 [==============================] - 139s 255ms/step - loss: 0.2696 - binary_accuracy: 0.8918 - precision: 0.8309 - recall: 0.7226 - val_loss: 0.3003 - val_binary_accuracy: 0.8798 - val_precision: 0.8059 - val_recall: 0.6978\n",
      "Epoch 39/100\n",
      "546/546 [==============================] - 139s 254ms/step - loss: 0.2644 - binary_accuracy: 0.8934 - precision: 0.8340 - recall: 0.7263 - val_loss: 0.2928 - val_binary_accuracy: 0.8811 - val_precision: 0.8093 - val_recall: 0.6996\n",
      "Epoch 40/100\n",
      "545/546 [============================>.] - ETA: 0s - loss: 0.2663 - binary_accuracy: 0.8916 - precision: 0.8318 - recall: 0.7201"
     ]
    },
    {
     "name": "stderr",
     "output_type": "stream",
     "text": [
      "WARNING:absl:Found untraced functions such as _jit_compiled_convolution_op, _jit_compiled_convolution_op, _jit_compiled_convolution_op while saving (showing 3 of 3). These functions will not be directly callable after loading.\n"
     ]
    },
    {
     "name": "stdout",
     "output_type": "stream",
     "text": [
      "INFO:tensorflow:Assets written to: ./models/assets\n"
     ]
    },
    {
     "name": "stderr",
     "output_type": "stream",
     "text": [
      "INFO:tensorflow:Assets written to: ./models/assets\n"
     ]
    },
    {
     "name": "stdout",
     "output_type": "stream",
     "text": [
      "546/546 [==============================] - 141s 258ms/step - loss: 0.2664 - binary_accuracy: 0.8916 - precision: 0.8318 - recall: 0.7201 - val_loss: 0.2936 - val_binary_accuracy: 0.8830 - val_precision: 0.8038 - val_recall: 0.7174\n",
      "Epoch 41/100\n",
      "546/546 [==============================] - 139s 254ms/step - loss: 0.2634 - binary_accuracy: 0.8942 - precision: 0.8357 - recall: 0.7277 - val_loss: 0.2926 - val_binary_accuracy: 0.8825 - val_precision: 0.7974 - val_recall: 0.7246\n",
      "Epoch 42/100\n",
      "546/546 [==============================] - 139s 254ms/step - loss: 0.2638 - binary_accuracy: 0.8937 - precision: 0.8334 - recall: 0.7285 - val_loss: 0.2929 - val_binary_accuracy: 0.8803 - val_precision: 0.8046 - val_recall: 0.7021\n",
      "Epoch 43/100\n",
      "546/546 [==============================] - 139s 254ms/step - loss: 0.2631 - binary_accuracy: 0.8943 - precision: 0.8337 - recall: 0.7311 - val_loss: 0.3025 - val_binary_accuracy: 0.8795 - val_precision: 0.7913 - val_recall: 0.7182\n",
      "Epoch 44/100\n",
      "546/546 [==============================] - 140s 256ms/step - loss: 0.2624 - binary_accuracy: 0.8938 - precision: 0.8337 - recall: 0.7286 - val_loss: 0.3068 - val_binary_accuracy: 0.8758 - val_precision: 0.7853 - val_recall: 0.7075\n",
      "Epoch 45/100\n",
      "546/546 [==============================] - 139s 254ms/step - loss: 0.2627 - binary_accuracy: 0.8941 - precision: 0.8346 - recall: 0.7291 - val_loss: 0.3019 - val_binary_accuracy: 0.8790 - val_precision: 0.8005 - val_recall: 0.7014\n",
      "Epoch 46/100\n",
      "546/546 [==============================] - 139s 255ms/step - loss: 0.2607 - binary_accuracy: 0.8958 - precision: 0.8377 - recall: 0.7332 - val_loss: 0.2959 - val_binary_accuracy: 0.8799 - val_precision: 0.7928 - val_recall: 0.7178\n",
      "Epoch 47/100\n",
      "546/546 [==============================] - 139s 254ms/step - loss: 0.2618 - binary_accuracy: 0.8952 - precision: 0.8369 - recall: 0.7313 - val_loss: 0.2977 - val_binary_accuracy: 0.8808 - val_precision: 0.8043 - val_recall: 0.7053\n",
      "Epoch 48/100\n",
      "546/546 [==============================] - 139s 254ms/step - loss: 0.2609 - binary_accuracy: 0.8960 - precision: 0.8367 - recall: 0.7352 - val_loss: 0.2969 - val_binary_accuracy: 0.8782 - val_precision: 0.7964 - val_recall: 0.7032\n",
      "Epoch 49/100\n",
      "546/546 [==============================] - 138s 254ms/step - loss: 0.2598 - binary_accuracy: 0.8961 - precision: 0.8393 - recall: 0.7328 - val_loss: 0.2956 - val_binary_accuracy: 0.8806 - val_precision: 0.8037 - val_recall: 0.7053\n",
      "Epoch 50/100\n",
      "546/546 [==============================] - 138s 253ms/step - loss: 0.2596 - binary_accuracy: 0.8957 - precision: 0.8380 - recall: 0.7323 - val_loss: 0.2904 - val_binary_accuracy: 0.8804 - val_precision: 0.8045 - val_recall: 0.7032\n",
      "Epoch 51/100\n",
      "546/546 [==============================] - 141s 259ms/step - loss: 0.2580 - binary_accuracy: 0.8951 - precision: 0.8363 - recall: 0.7316 - val_loss: 0.3011 - val_binary_accuracy: 0.8823 - val_precision: 0.8031 - val_recall: 0.7146\n",
      "Epoch 52/100\n",
      "546/546 [==============================] - 140s 256ms/step - loss: 0.2567 - binary_accuracy: 0.8966 - precision: 0.8397 - recall: 0.7345 - val_loss: 0.3013 - val_binary_accuracy: 0.8803 - val_precision: 0.7961 - val_recall: 0.7146\n",
      "Epoch 53/100\n",
      "546/546 [==============================] - 140s 256ms/step - loss: 0.2565 - binary_accuracy: 0.8967 - precision: 0.8395 - recall: 0.7350 - val_loss: 0.2951 - val_binary_accuracy: 0.8823 - val_precision: 0.8081 - val_recall: 0.7075\n",
      "Epoch 54/100\n",
      "546/546 [==============================] - 141s 259ms/step - loss: 0.2557 - binary_accuracy: 0.8970 - precision: 0.8388 - recall: 0.7374 - val_loss: 0.2935 - val_binary_accuracy: 0.8811 - val_precision: 0.8073 - val_recall: 0.7025\n",
      "Epoch 55/100\n",
      "546/546 [==============================] - 138s 252ms/step - loss: 0.2573 - binary_accuracy: 0.8968 - precision: 0.8401 - recall: 0.7350 - val_loss: 0.2960 - val_binary_accuracy: 0.8789 - val_precision: 0.8041 - val_recall: 0.6957\n",
      "Epoch 56/100\n",
      "546/546 [==============================] - 138s 252ms/step - loss: 0.2533 - binary_accuracy: 0.8979 - precision: 0.8413 - recall: 0.7387 - val_loss: 0.2989 - val_binary_accuracy: 0.8786 - val_precision: 0.8026 - val_recall: 0.6964\n",
      "Epoch 57/100\n",
      "545/546 [============================>.] - ETA: 0s - loss: 0.2534 - binary_accuracy: 0.8986 - precision: 0.8418 - recall: 0.7414"
     ]
    },
    {
     "name": "stderr",
     "output_type": "stream",
     "text": [
      "WARNING:absl:Found untraced functions such as _jit_compiled_convolution_op, _jit_compiled_convolution_op, _jit_compiled_convolution_op while saving (showing 3 of 3). These functions will not be directly callable after loading.\n"
     ]
    },
    {
     "name": "stdout",
     "output_type": "stream",
     "text": [
      "INFO:tensorflow:Assets written to: ./models/assets\n"
     ]
    },
    {
     "name": "stderr",
     "output_type": "stream",
     "text": [
      "INFO:tensorflow:Assets written to: ./models/assets\n"
     ]
    },
    {
     "name": "stdout",
     "output_type": "stream",
     "text": [
      "546/546 [==============================] - 140s 256ms/step - loss: 0.2534 - binary_accuracy: 0.8986 - precision: 0.8418 - recall: 0.7414 - val_loss: 0.2914 - val_binary_accuracy: 0.8835 - val_precision: 0.8109 - val_recall: 0.7100\n",
      "Epoch 58/100\n",
      "546/546 [==============================] - 138s 252ms/step - loss: 0.2531 - binary_accuracy: 0.8986 - precision: 0.8425 - recall: 0.7407 - val_loss: 0.2965 - val_binary_accuracy: 0.8815 - val_precision: 0.8020 - val_recall: 0.7125\n",
      "Epoch 59/100\n",
      "546/546 [==============================] - 139s 254ms/step - loss: 0.2536 - binary_accuracy: 0.8993 - precision: 0.8441 - recall: 0.7419 - val_loss: 0.2983 - val_binary_accuracy: 0.8782 - val_precision: 0.8032 - val_recall: 0.6932\n",
      "Epoch 60/100\n",
      "546/546 [==============================] - 137s 252ms/step - loss: 0.2520 - binary_accuracy: 0.8995 - precision: 0.8459 - recall: 0.7403 - val_loss: 0.2936 - val_binary_accuracy: 0.8818 - val_precision: 0.8008 - val_recall: 0.7157\n",
      "Epoch 61/100\n",
      "546/546 [==============================] - 137s 251ms/step - loss: 0.2527 - binary_accuracy: 0.8995 - precision: 0.8439 - recall: 0.7430 - val_loss: 0.2980 - val_binary_accuracy: 0.8762 - val_precision: 0.7949 - val_recall: 0.6953\n",
      "Epoch 62/100\n",
      "546/546 [==============================] - 140s 256ms/step - loss: 0.2531 - binary_accuracy: 0.8994 - precision: 0.8446 - recall: 0.7419 - val_loss: 0.2946 - val_binary_accuracy: 0.8814 - val_precision: 0.7983 - val_recall: 0.7174\n",
      "Epoch 63/100\n",
      "546/546 [==============================] - 139s 254ms/step - loss: 0.2510 - binary_accuracy: 0.8994 - precision: 0.8437 - recall: 0.7430 - val_loss: 0.2969 - val_binary_accuracy: 0.8797 - val_precision: 0.8064 - val_recall: 0.6968\n",
      "Epoch 64/100\n",
      "546/546 [==============================] - 138s 252ms/step - loss: 0.2496 - binary_accuracy: 0.9001 - precision: 0.8447 - recall: 0.7449 - val_loss: 0.2931 - val_binary_accuracy: 0.8785 - val_precision: 0.7957 - val_recall: 0.7060\n",
      "Epoch 65/100\n",
      "546/546 [==============================] - 137s 251ms/step - loss: 0.2490 - binary_accuracy: 0.9008 - precision: 0.8476 - recall: 0.7445 - val_loss: 0.2930 - val_binary_accuracy: 0.8824 - val_precision: 0.8002 - val_recall: 0.7199\n",
      "Epoch 66/100\n",
      "546/546 [==============================] - 137s 251ms/step - loss: 0.2494 - binary_accuracy: 0.9006 - precision: 0.8460 - recall: 0.7458 - val_loss: 0.2887 - val_binary_accuracy: 0.8834 - val_precision: 0.8134 - val_recall: 0.7060\n",
      "Epoch 67/100\n",
      "546/546 [==============================] - 137s 251ms/step - loss: 0.2490 - binary_accuracy: 0.8997 - precision: 0.8437 - recall: 0.7443 - val_loss: 0.2944 - val_binary_accuracy: 0.8810 - val_precision: 0.8020 - val_recall: 0.7096\n",
      "Epoch 68/100\n",
      "546/546 [==============================] - 137s 251ms/step - loss: 0.2486 - binary_accuracy: 0.9014 - precision: 0.8487 - recall: 0.7459 - val_loss: 0.3132 - val_binary_accuracy: 0.8760 - val_precision: 0.8072 - val_recall: 0.6764\n",
      "Epoch 69/100\n",
      "546/546 [==============================] - 137s 252ms/step - loss: 0.2497 - binary_accuracy: 0.8998 - precision: 0.8459 - recall: 0.7421 - val_loss: 0.2980 - val_binary_accuracy: 0.8808 - val_precision: 0.7987 - val_recall: 0.7135\n",
      "Epoch 70/100\n",
      "546/546 [==============================] - 137s 251ms/step - loss: 0.2474 - binary_accuracy: 0.9016 - precision: 0.8474 - recall: 0.7489 - val_loss: 0.2992 - val_binary_accuracy: 0.8815 - val_precision: 0.8020 - val_recall: 0.7125\n",
      "Epoch 71/100\n",
      "546/546 [==============================] - 138s 252ms/step - loss: 0.2478 - binary_accuracy: 0.9008 - precision: 0.8474 - recall: 0.7450 - val_loss: 0.2939 - val_binary_accuracy: 0.8811 - val_precision: 0.7913 - val_recall: 0.7264\n",
      "Epoch 72/100\n",
      "546/546 [==============================] - 137s 252ms/step - loss: 0.2453 - binary_accuracy: 0.9019 - precision: 0.8470 - recall: 0.7505 - val_loss: 0.3033 - val_binary_accuracy: 0.8776 - val_precision: 0.7959 - val_recall: 0.7010\n",
      "Epoch 73/100\n",
      "546/546 [==============================] - 138s 252ms/step - loss: 0.2468 - binary_accuracy: 0.9016 - precision: 0.8481 - recall: 0.7479 - val_loss: 0.2965 - val_binary_accuracy: 0.8805 - val_precision: 0.8066 - val_recall: 0.7007\n",
      "Epoch 74/100\n",
      "546/546 [==============================] - 139s 254ms/step - loss: 0.2447 - binary_accuracy: 0.9020 - precision: 0.8486 - recall: 0.7489 - val_loss: 0.3010 - val_binary_accuracy: 0.8803 - val_precision: 0.8046 - val_recall: 0.7021\n",
      "Epoch 75/100\n",
      "546/546 [==============================] - 138s 252ms/step - loss: 0.2482 - binary_accuracy: 0.9002 - precision: 0.8455 - recall: 0.7444 - val_loss: 0.2947 - val_binary_accuracy: 0.8823 - val_precision: 0.8010 - val_recall: 0.7178\n",
      "Epoch 76/100\n",
      "545/546 [============================>.] - ETA: 0s - loss: 0.2432 - binary_accuracy: 0.9023 - precision: 0.8486 - recall: 0.7504"
     ]
    },
    {
     "name": "stderr",
     "output_type": "stream",
     "text": [
      "WARNING:absl:Found untraced functions such as _jit_compiled_convolution_op, _jit_compiled_convolution_op, _jit_compiled_convolution_op while saving (showing 3 of 3). These functions will not be directly callable after loading.\n"
     ]
    },
    {
     "name": "stdout",
     "output_type": "stream",
     "text": [
      "INFO:tensorflow:Assets written to: ./models/assets\n"
     ]
    },
    {
     "name": "stderr",
     "output_type": "stream",
     "text": [
      "INFO:tensorflow:Assets written to: ./models/assets\n"
     ]
    },
    {
     "name": "stdout",
     "output_type": "stream",
     "text": [
      "546/546 [==============================] - 140s 256ms/step - loss: 0.2433 - binary_accuracy: 0.9023 - precision: 0.8485 - recall: 0.7504 - val_loss: 0.2989 - val_binary_accuracy: 0.8844 - val_precision: 0.8081 - val_recall: 0.7182\n",
      "Epoch 77/100\n",
      "546/546 [==============================] - 139s 255ms/step - loss: 0.2448 - binary_accuracy: 0.9015 - precision: 0.8484 - recall: 0.7472 - val_loss: 0.2991 - val_binary_accuracy: 0.8824 - val_precision: 0.8003 - val_recall: 0.7192\n",
      "Epoch 78/100\n",
      "546/546 [==============================] - 137s 251ms/step - loss: 0.2422 - binary_accuracy: 0.9032 - precision: 0.8480 - recall: 0.7555 - val_loss: 0.3016 - val_binary_accuracy: 0.8815 - val_precision: 0.7949 - val_recall: 0.7232\n",
      "Epoch 79/100\n",
      "546/546 [==============================] - 137s 251ms/step - loss: 0.2418 - binary_accuracy: 0.9035 - precision: 0.8503 - recall: 0.7541 - val_loss: 0.2999 - val_binary_accuracy: 0.8814 - val_precision: 0.7932 - val_recall: 0.7253\n",
      "Epoch 80/100\n",
      "546/546 [==============================] - 137s 251ms/step - loss: 0.2424 - binary_accuracy: 0.9017 - precision: 0.8469 - recall: 0.7497 - val_loss: 0.2998 - val_binary_accuracy: 0.8793 - val_precision: 0.8008 - val_recall: 0.7028\n",
      "Epoch 81/100\n",
      "546/546 [==============================] - 137s 251ms/step - loss: 0.2422 - binary_accuracy: 0.9038 - precision: 0.8505 - recall: 0.7553 - val_loss: 0.2949 - val_binary_accuracy: 0.8832 - val_precision: 0.8046 - val_recall: 0.7171\n",
      "Epoch 82/100\n",
      "546/546 [==============================] - 137s 252ms/step - loss: 0.2418 - binary_accuracy: 0.9037 - precision: 0.8516 - recall: 0.7535 - val_loss: 0.3050 - val_binary_accuracy: 0.8778 - val_precision: 0.7960 - val_recall: 0.7017\n",
      "Epoch 83/100\n",
      "546/546 [==============================] - 138s 253ms/step - loss: 0.2407 - binary_accuracy: 0.9036 - precision: 0.8505 - recall: 0.7542 - val_loss: 0.3051 - val_binary_accuracy: 0.8784 - val_precision: 0.8091 - val_recall: 0.6864\n",
      "Epoch 84/100\n",
      "546/546 [==============================] - 137s 251ms/step - loss: 0.2405 - binary_accuracy: 0.9038 - precision: 0.8514 - recall: 0.7539 - val_loss: 0.3042 - val_binary_accuracy: 0.8799 - val_precision: 0.8003 - val_recall: 0.7064\n",
      "Epoch 85/100\n",
      "546/546 [==============================] - 137s 251ms/step - loss: 0.2392 - binary_accuracy: 0.9051 - precision: 0.8534 - recall: 0.7579 - val_loss: 0.3116 - val_binary_accuracy: 0.8802 - val_precision: 0.8035 - val_recall: 0.7032\n",
      "Epoch 86/100\n",
      "546/546 [==============================] - 137s 251ms/step - loss: 0.2415 - binary_accuracy: 0.9042 - precision: 0.8535 - recall: 0.7532 - val_loss: 0.2983 - val_binary_accuracy: 0.8825 - val_precision: 0.8039 - val_recall: 0.7149\n",
      "Epoch 87/100\n",
      "546/546 [==============================] - 137s 252ms/step - loss: 0.2397 - binary_accuracy: 0.9051 - precision: 0.8538 - recall: 0.7574 - val_loss: 0.2965 - val_binary_accuracy: 0.8824 - val_precision: 0.8052 - val_recall: 0.7125\n",
      "Epoch 88/100\n",
      "546/546 [==============================] - 137s 251ms/step - loss: 0.2399 - binary_accuracy: 0.9038 - precision: 0.8521 - recall: 0.7531 - val_loss: 0.3085 - val_binary_accuracy: 0.8783 - val_precision: 0.7866 - val_recall: 0.7192\n",
      "Epoch 89/100\n",
      "546/546 [==============================] - 137s 251ms/step - loss: 0.2407 - binary_accuracy: 0.9029 - precision: 0.8500 - recall: 0.7515 - val_loss: 0.3092 - val_binary_accuracy: 0.8775 - val_precision: 0.7977 - val_recall: 0.6978\n",
      "Epoch 90/100\n",
      "546/546 [==============================] - 138s 252ms/step - loss: 0.2412 - binary_accuracy: 0.9045 - precision: 0.8523 - recall: 0.7565 - val_loss: 0.2980 - val_binary_accuracy: 0.8816 - val_precision: 0.8004 - val_recall: 0.7153\n",
      "Epoch 91/100\n",
      "546/546 [==============================] - 137s 251ms/step - loss: 0.2373 - binary_accuracy: 0.9051 - precision: 0.8533 - recall: 0.7577 - val_loss: 0.3003 - val_binary_accuracy: 0.8801 - val_precision: 0.7988 - val_recall: 0.7096\n",
      "Epoch 92/100\n",
      "546/546 [==============================] - 137s 252ms/step - loss: 0.2374 - binary_accuracy: 0.9062 - precision: 0.8565 - recall: 0.7592 - val_loss: 0.3034 - val_binary_accuracy: 0.8808 - val_precision: 0.8038 - val_recall: 0.7060\n",
      "Epoch 93/100\n",
      "546/546 [==============================] - 138s 252ms/step - loss: 0.2375 - binary_accuracy: 0.9053 - precision: 0.8547 - recall: 0.7569 - val_loss: 0.3011 - val_binary_accuracy: 0.8834 - val_precision: 0.7995 - val_recall: 0.7257\n",
      "Epoch 94/100\n",
      "546/546 [==============================] - 138s 252ms/step - loss: 0.2355 - binary_accuracy: 0.9057 - precision: 0.8533 - recall: 0.7606 - val_loss: 0.3040 - val_binary_accuracy: 0.8826 - val_precision: 0.7980 - val_recall: 0.7242\n",
      "Epoch 95/100\n",
      "546/546 [==============================] - 138s 252ms/step - loss: 0.2367 - binary_accuracy: 0.9071 - precision: 0.8565 - recall: 0.7633 - val_loss: 0.3010 - val_binary_accuracy: 0.8826 - val_precision: 0.8013 - val_recall: 0.7192\n",
      "Epoch 96/100\n",
      "546/546 [==============================] - 138s 253ms/step - loss: 0.2355 - binary_accuracy: 0.9065 - precision: 0.8560 - recall: 0.7610 - val_loss: 0.2989 - val_binary_accuracy: 0.8837 - val_precision: 0.7975 - val_recall: 0.7306\n"
     ]
    }
   ],
   "source": [
    "callback = [\n",
    "    tf.keras.callbacks.ModelCheckpoint(monitor='val_binary_accuracy', save_best_only=True, filepath='./models'),\n",
    "    tf.keras.callbacks.EarlyStopping(monitor='val_binary_accuracy', patience=20),\n",
    "    tf.keras.callbacks.TensorBoard(log_dir='./logs')\n",
    "]\n",
    "\n",
    "history = modelZ.fit(\n",
    "    [X_train_scaled, Y_train_scaled], Z_train, epochs=100, batch_size=32, callbacks=callback, validation_data=([X_val_scaled, Y_val_scaled], Z_val)\n",
    ")"
   ]
  },
  {
   "cell_type": "code",
   "execution_count": 11,
   "metadata": {},
   "outputs": [],
   "source": [
    "detection_model = tf.keras.models.load_model('./models')"
   ]
  },
  {
   "cell_type": "code",
   "execution_count": 19,
   "metadata": {},
   "outputs": [
    {
     "data": {
      "image/png": "[encoded data removed]",
      "text/plain": [
       "<Figure size 1776.88x400 with 1 Axes>"
      ]
     },
     "metadata": {},
     "output_type": "display_data"
    }
   ],
   "source": [
    "sns.relplot(data=pd.DataFrame(history.history), kind='line', height=4, aspect=4)\n",
    "plt.show()"
   ]
  },
  {
   "cell_type": "code",
   "execution_count": 20,
   "metadata": {},
   "outputs": [
    {
     "name": "stdout",
     "output_type": "stream",
     "text": [
      "69/69 [==============================] - 5s 61ms/step - loss: 0.2964 - binary_accuracy: 0.8827 - precision: 0.8076 - recall: 0.7072\n"
     ]
    },
    {
     "data": {
      "text/plain": [
       "[0.29638826847076416,\n",
       " 0.8827052712440491,\n",
       " 0.8075825572013855,\n",
       " 0.7072474360466003]"
      ]
     },
     "execution_count": 20,
     "metadata": {},
     "output_type": "execute_result"
    }
   ],
   "source": [
    "detection_model.evaluate([X_test_scaled, Y_test_scaled], Z_test)"
   ]
  }
 ],
 "metadata": {
  "kernelspec": {
   "display_name": "base",
   "language": "python",
   "name": "python3"
  },
  "language_info": {
   "codemirror_mode": {
    "name": "ipython",
    "version": 3
   },
   "file_extension": ".py",
   "mimetype": "text/x-python",
   "name": "python",
   "nbconvert_exporter": "python",
   "pygments_lexer": "ipython3",
   "version": "3.10.9"
  },
  "orig_nbformat": 4
 },
 "nbformat": 4,
 "nbformat_minor": 2
}
